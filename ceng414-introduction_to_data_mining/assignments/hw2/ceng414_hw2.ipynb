{
 "cells": [
  {
   "cell_type": "markdown",
   "metadata": {},
   "source": [
    "# CENG414 Assignment 2\n",
    "\n",
    "### Due: May 7, Sunday-23.59\n",
    "\n",
    "### Submission and Grading Policy\n",
    "\n",
    "- Submit your assignments to the corresponding assignment link in ODTUClass.\n",
    "- Do not change variable names in the code blocks and the texts in the markdowns.\n",
    "- **<font color=#C91414>This is an individual assignment. Please do not collaborate. You have to adhere to the academic integrity principles.</font>** \n",
    "\n",
    "------------\n",
    "\n",
    "### The aim of this assignment is getting you familiar with\n",
    "- Python and Jupyter notebook\n",
    "- basic data transformations"
   ]
  },
  {
   "cell_type": "code",
   "execution_count": 1,
   "metadata": {},
   "outputs": [],
   "source": [
    "import pandas as pd\n",
    "import numpy as np\n",
    "from pathlib import Path"
   ]
  },
  {
   "cell_type": "markdown",
   "metadata": {},
   "source": [
    "**1. Upload the data as a pandas dataframe and show the first three rows.**"
   ]
  },
  {
   "cell_type": "code",
   "execution_count": 2,
   "metadata": {},
   "outputs": [
    {
     "data": {
      "text/html": [
       "<div>\n",
       "<style scoped>\n",
       "    .dataframe tbody tr th:only-of-type {\n",
       "        vertical-align: middle;\n",
       "    }\n",
       "\n",
       "    .dataframe tbody tr th {\n",
       "        vertical-align: top;\n",
       "    }\n",
       "\n",
       "    .dataframe thead th {\n",
       "        text-align: right;\n",
       "    }\n",
       "</style>\n",
       "<table border=\"1\" class=\"dataframe\">\n",
       "  <thead>\n",
       "    <tr style=\"text-align: right;\">\n",
       "      <th></th>\n",
       "      <th>index</th>\n",
       "      <th>Age</th>\n",
       "      <th>Sex</th>\n",
       "      <th>Job</th>\n",
       "      <th>Housing</th>\n",
       "      <th>Saving accounts</th>\n",
       "      <th>Checking account</th>\n",
       "      <th>Credit amount</th>\n",
       "      <th>Duration</th>\n",
       "      <th>Purpose</th>\n",
       "      <th>Risk</th>\n",
       "    </tr>\n",
       "  </thead>\n",
       "  <tbody>\n",
       "    <tr>\n",
       "      <th>0</th>\n",
       "      <td>0</td>\n",
       "      <td>67</td>\n",
       "      <td>male</td>\n",
       "      <td>2</td>\n",
       "      <td>own</td>\n",
       "      <td>NaN</td>\n",
       "      <td>little</td>\n",
       "      <td>1169</td>\n",
       "      <td>6</td>\n",
       "      <td>radio/TV</td>\n",
       "      <td>good</td>\n",
       "    </tr>\n",
       "    <tr>\n",
       "      <th>1</th>\n",
       "      <td>1</td>\n",
       "      <td>22</td>\n",
       "      <td>female</td>\n",
       "      <td>2</td>\n",
       "      <td>own</td>\n",
       "      <td>little</td>\n",
       "      <td>moderate</td>\n",
       "      <td>5951</td>\n",
       "      <td>48</td>\n",
       "      <td>radio/TV</td>\n",
       "      <td>bad</td>\n",
       "    </tr>\n",
       "    <tr>\n",
       "      <th>2</th>\n",
       "      <td>2</td>\n",
       "      <td>49</td>\n",
       "      <td>male</td>\n",
       "      <td>1</td>\n",
       "      <td>own</td>\n",
       "      <td>little</td>\n",
       "      <td>NaN</td>\n",
       "      <td>2096</td>\n",
       "      <td>12</td>\n",
       "      <td>education</td>\n",
       "      <td>good</td>\n",
       "    </tr>\n",
       "  </tbody>\n",
       "</table>\n",
       "</div>"
      ],
      "text/plain": [
       "   index  Age     Sex  Job Housing Saving accounts Checking account  \\\n",
       "0      0   67    male    2     own             NaN           little   \n",
       "1      1   22  female    2     own          little         moderate   \n",
       "2      2   49    male    1     own          little              NaN   \n",
       "\n",
       "   Credit amount  Duration    Purpose  Risk  \n",
       "0           1169         6   radio/TV  good  \n",
       "1           5951        48   radio/TV   bad  \n",
       "2           2096        12  education  good  "
      ]
     },
     "execution_count": 2,
     "metadata": {},
     "output_type": "execute_result"
    }
   ],
   "source": [
    "df = pd.read_csv(r'/Users/deryatinmaz/Desktop/german_credit_risk.csv')\n",
    "df.head(3)"
   ]
  },
  {
   "cell_type": "markdown",
   "metadata": {},
   "source": [
    "**2. How many features and observations are there in the data set (rows x columns)?**"
   ]
  },
  {
   "cell_type": "code",
   "execution_count": 3,
   "metadata": {},
   "outputs": [
    {
     "data": {
      "text/plain": [
       "(1000, 11)"
      ]
     },
     "execution_count": 3,
     "metadata": {},
     "output_type": "execute_result"
    }
   ],
   "source": [
    "df.shape  #(1000,11) -> there are 11 features(columns) and 1000 observations(rows) in the dataset"
   ]
  },
  {
   "cell_type": "markdown",
   "metadata": {},
   "source": [
    "Notice that some data points are missing. For example, see the value of the \"Saving accounts\" by typing **print(df.iloc[0])**    \n",
    "**3. Find and print the number of missing values in each column**"
   ]
  },
  {
   "cell_type": "code",
   "execution_count": 4,
   "metadata": {},
   "outputs": [
    {
     "name": "stdout",
     "output_type": "stream",
     "text": [
      "index                      0\n",
      "Age                       67\n",
      "Sex                     male\n",
      "Job                        2\n",
      "Housing                  own\n",
      "Saving accounts          NaN\n",
      "Checking account      little\n",
      "Credit amount           1169\n",
      "Duration                   6\n",
      "Purpose             radio/TV\n",
      "Risk                    good\n",
      "Name: 0, dtype: object\n",
      "index                 0\n",
      "Age                   0\n",
      "Sex                   0\n",
      "Job                   0\n",
      "Housing               0\n",
      "Saving accounts     183\n",
      "Checking account    394\n",
      "Credit amount         0\n",
      "Duration              0\n",
      "Purpose               0\n",
      "Risk                  0\n",
      "dtype: int64\n"
     ]
    }
   ],
   "source": [
    "print(df.iloc[0])\n",
    "print(df.isna().sum())\n",
    "# There are 183 missing values in Saving accounts column and 394 missing values in checking account column \n",
    "# Other columns do not have any missing values"
   ]
  },
  {
   "cell_type": "markdown",
   "metadata": {},
   "source": [
    "**4. Drop the columns which have more than %20 missing value rate.**"
   ]
  },
  {
   "cell_type": "code",
   "execution_count": 5,
   "metadata": {},
   "outputs": [],
   "source": [
    "percentages = df.isna().sum()/ (df.shape[0])\n",
    "columns_to_drop = percentages[percentages>0.20].keys() # only ['Checking account'] with %39.4\n",
    "df = df.drop(columns_to_drop, axis=1)"
   ]
  },
  {
   "cell_type": "markdown",
   "metadata": {},
   "source": [
    "**5. Create a dataframe named credit_wo_na by dropping the rows which have missing values.  \n",
    "What is the shape (rows x columns) of newly created data frame \"credit_wo_na\"?**   \n",
    "Please do the rest of the assignment with data_wo_na."
   ]
  },
  {
   "cell_type": "code",
   "execution_count": 6,
   "metadata": {},
   "outputs": [
    {
     "data": {
      "text/plain": [
       "(817, 10)"
      ]
     },
     "execution_count": 6,
     "metadata": {},
     "output_type": "execute_result"
    }
   ],
   "source": [
    "credit_wo_na = df.dropna() #183 rows are dropped\n",
    "credit_wo_na.shape # it is (817, 10), there are 817 observations(rows) and 10 features (columns) left"
   ]
  },
  {
   "cell_type": "markdown",
   "metadata": {},
   "source": [
    "**6. Create a csv file named \"credit_wo_na.csv\" using the newly created data frame \"credit_wo_na\"?**   \n",
    "Please do the rest of the assignment with credit_wo_na."
   ]
  },
  {
   "cell_type": "code",
   "execution_count": 7,
   "metadata": {},
   "outputs": [],
   "source": [
    "filepath = Path('/Users/deryatinmaz/Desktop/credit_wo_na.csv')  \n",
    "filepath.parent.mkdir(parents=True, exist_ok=True)  \n",
    "credit_wo_na.to_csv(filepath,  index=False) "
   ]
  },
  {
   "cell_type": "code",
   "execution_count": null,
   "metadata": {},
   "outputs": [],
   "source": []
  }
 ],
 "metadata": {
  "kernelspec": {
   "display_name": "Python 3 (ipykernel)",
   "language": "python",
   "name": "python3"
  },
  "language_info": {
   "codemirror_mode": {
    "name": "ipython",
    "version": 3
   },
   "file_extension": ".py",
   "mimetype": "text/x-python",
   "name": "python",
   "nbconvert_exporter": "python",
   "pygments_lexer": "ipython3",
   "version": "3.10.6"
  },
  "vscode": {
   "interpreter": {
    "hash": "88e6d1884408d11628b48427b915666d476e5d25e940b2a06f474591a7dd5711"
   }
  }
 },
 "nbformat": 4,
 "nbformat_minor": 4
}
